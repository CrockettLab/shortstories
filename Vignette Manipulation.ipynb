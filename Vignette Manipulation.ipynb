{
 "cells": [
  {
   "cell_type": "markdown",
   "metadata": {},
   "source": [
    "# Vignette Manipulation"
   ]
  },
  {
   "cell_type": "code",
   "execution_count": 27,
   "metadata": {},
   "outputs": [],
   "source": [
    "import pandas as pd"
   ]
  },
  {
   "cell_type": "code",
   "execution_count": 28,
   "metadata": {},
   "outputs": [],
   "source": [
    "df = pd.read_csv('Moral narratives vignettes - vignettes_clean.csv', encoding = 'utf-8-sig', lineterminator = '\\n')"
   ]
  },
  {
   "cell_type": "code",
   "execution_count": 29,
   "metadata": {},
   "outputs": [
    {
     "data": {
      "text/plain": [
       "['Unintentional harm',\n",
       " 'Intentional harm',\n",
       " 'Ambiguous character',\n",
       " 'Comprehension question',\n",
       " 'MCQ Answer',\n",
       " 'MCQ Option 2',\n",
       " 'MCQ Option 3',\n",
       " 'Actor ',\n",
       " 'Type of harm',\n",
       " 'Human or Work Transgression',\n",
       " 'Actor & affected party',\n",
       " 'Relational context specific',\n",
       " 'Authors',\n",
       " 'Year',\n",
       " 'doi\\r']"
      ]
     },
     "execution_count": 29,
     "metadata": {},
     "output_type": "execute_result"
    }
   ],
   "source": [
    "list(df)"
   ]
  },
  {
   "cell_type": "code",
   "execution_count": 30,
   "metadata": {},
   "outputs": [],
   "source": [
    "unintentional = list(df['Unintentional harm'])\n",
    "intentional = list(df['Intentional harm'])\n",
    "ambiguous = list(df['Ambiguous character'])\n",
    "comprehension = list(df['Comprehension question'])\n",
    "actor = list(df['Actor '])\n",
    "answer1 = list(df['MCQ Answer'])\n",
    "answer2 = list(df['MCQ Option 2'])\n",
    "answer3 = list(df['MCQ Option 3'])"
   ]
  },
  {
   "cell_type": "code",
   "execution_count": 31,
   "metadata": {
    "scrolled": false
   },
   "outputs": [
    {
     "data": {
      "text/plain": [
       "['Sofia is cooking dinner for a family gathering. She has been perfecting a curry recipe. Sofia knows her cousin attending the dinner has a peanut allergy. Sofia adds peanuts to every plate and serves. Her cousin takes a large mouthful. Within a few minutes, her cousin struggles to breathe and the family rush for her epipen. ',\n",
       " 'Matthew takes an advanced high school English class. To prepare for their assignment, the teacher passes out a sample essay for class discussion. Matthew does not know a student in the class wrote the essay. Matthew says in front of the class that the essay must have been written by a third-grader. The student who wrote the essay leaves the room.',\n",
       " 'Eleanor is swimming at a communal pool. A young girl is preparing to dive in. Eleanor believes that the girl is being supervised by her parents. Eleanor walks by, without saying anything to the girl. The girl hits her head at the shallow end of the pool and starts screaming. ',\n",
       " \"Emma works as a medical doctor. Today she has a routine examination and typically, she wears latex gloves. Emma reads this patient's records and believes they are not allergic to latex. Emma puts on latex gloves and examines her patient. Before long, the patient has an allergic reaction to the gloves and goes into shock.\",\n",
       " 'William is driving his motorboat in the bay, after a trip to a secluded beach. He spots a swimmer in the far distance. He believes the swimmer is waving an enthusiastic \"hello\". William drives past, leaving the swimmer behind. No one else sees the swimmer\\'s cry for help and the swimmer drowns.',\n",
       " 'Abigail is at a bar, drinking alcoholic cocktails. At the end of the night, Abigail believes she has sobered up. Abigail decides to leave and gives her friend a lift home. On the road, Abigail is out of control. She has to brake suddenly and her friend hits her head hard on the dashboard.',\n",
       " 'Sebastian is a chef at a sushi bar. Recently, Sebastian has changed his tuna fish supplier to save money. He does not know the new supplier has out-of-date fish. That week, he serves this supply of tuna fish to his customers. Many customers who order the tuna leave the restaurant with severe food poisoning. ',\n",
       " \"Lucas and his brother are camping in the woods. There are wild mushrooms are growing and Lucas studies them by consulting his plant life guide. Lucas believes these mushrooms match the edible mushrooms in his guide. Lucas gives the mushrooms to his brother. Lucas' brother eats them and 10 minutes later he starts convulsing. \",\n",
       " 'Elizabeth is at the airport. There is an elderly woman running through the terminal. The floor has just been mopped, and there is a “Wet Floor” sign. Elizabeth believes that this woman has seen this sign. Elizabeth does not warn her of the wet floor. The elderly woman falls over and misses her flight to wait for medical attention. ',\n",
       " 'Daniel is showing a visitor around his chemistry laboratory. The laboratory need to be checked for toxic gas, before anyone enters. Daniel believes the laboratory is safe. He tells the visitor to enter. The visitor soon starts gasping for air and collapses.',\n",
       " 'Olivia is walking home. On the path, a runner is bent over with her hand on her chest, clasping her asthma inhaler. Olivia does not see the inhaler and thinks the runner is having an asthma attack. Olivia walks past, leaving the runner. The runner does not receive any medical attention and collapses.',\n",
       " \"Benjamin is a live-in carer. He cares for an elderly patient with Alzheimer's'. Benjamin needs to leave the house to buy groceries. As he is leaving, his patient starts coughing. He thinks the cough sounds normal. Benjamin returns from the grocery store and his patient is having a seizure. \",\n",
       " \"Hannah works at a rock climbing center. Hannah has just bought the center new climbing ropes. Hannah thinks that the new ropes are safe as they are from a reputable store. Hannah ties the new ropes to a climber's harness. Halfway up the climbing wall, the rope gives way, and the climber plummets to the ground. \",\n",
       " 'Charlotte works at an airport. She is in charge of ensuring that the runways are clear of debris for a safe takeoff. Charlotte believes that the runway is safe. She gives the OK for takeoff. When the plane tries to take off, the wheels suffer serious damage. Three passengers are injured.',\n",
       " \"Ryan is at an animal zoo with his nephew. After lunch, his nephew complains that his stomach hurts. Ryan is not aware of this pain could be a complication from his nephew's recent operation. Ryan takes his nephew to see the monkeys. His nephew is in so much pain from his operation that he collapses.\",\n",
       " \"Elijah works on reception at a veterinary center. During his lunch break, Elijah's friend visits him. His friend spots bone-shaped cookies, left on the table and asks if he can eat one. Elijah believes that these cookies for human consumption. He lets him take one. The cookies are used to put dogs to sleep, so after several bites, his friend starts gagging and breaks into a sweat.\",\n",
       " \"Grace and her colleague on their lunch break at work. Grace offers to them get coffee from the kitchen. There is a container of white powder on the side and Grace thinks it is sugar.  Grace puts the substance in her friend's coffee. The white power was salt and her colleague spits out her coffee in a meeting, as it tastes disgusting. \",\n",
       " 'Amelia works as a chairlift operator in a ski resort. At the start of her shift, Amelia believes that the ski lift is in a safe condition. She starts the chairlift for the first passengers. Half way through the ride, the chairlift makes a massive jolt and two people are injured. ']"
      ]
     },
     "execution_count": 31,
     "metadata": {},
     "output_type": "execute_result"
    }
   ],
   "source": [
    "unintentional"
   ]
  },
  {
   "cell_type": "code",
   "execution_count": 32,
   "metadata": {},
   "outputs": [
    {
     "data": {
      "text/plain": [
       "['Sofia is cooking dinner for a family gathering. She has been perfecting a curry recipe. Sofia knows her cousin attending the dinner has a peanut allergy. Sofia adds peanuts to every plate and serves. Her cousin takes a large mouthful. Within a few minutes, her cousin struggles to breathe and the family rush for her epipen. ',\n",
       " 'Matthew takes an advanced high school English class. To prepare for their assignment, the teacher passes out a sample essay for class discussion. Matthew does not know a student in the class wrote the essay. Matthew says in front of the class that the essay must have been written by a third-grader. The student who wrote the essay leaves the room.',\n",
       " 'Eleanor has been swimming at a communal pool. A young girl is preparing to dive in. Eleanor believes the child is not being supervised by her parents. Eleanor walks by, without saying anything to the girl. The girl hits her head at the shallow end of the pool and starts screaming.',\n",
       " \"Emma works as a medical doctor. Today she has a routine examination and typically, she wears latex gloves. Emma reads the patient's records and believes they are allergic to latex. Emma puts on latex gloves and examines her patient. Before long, the patient has an allergic reaction to the gloves and goes into shock.\",\n",
       " \"William is driving his motorboat in the bay, after a trip to a secluded beach. He spots a swimmer in the far distance. He believes that the swimmer is desperate for help. William drives past, leaving the swimmer behind. No one else sees the swimmer's cry for help and the swimmer drowns.\",\n",
       " 'Abigail is at a bar, drinking alcoholic cocktails. At the end of the night, Abigail believes she has not sobered up. Abigail decides to leave and gives her friend a lift home. On the road, Abigail is out of control. She has to brake suddenly and her friend hits her head hard on the dashboard.',\n",
       " 'Sebastian is a chef at a sushi bar. Recently, Sebastian has changed his tuna fish supplier to save money. He knows the new supplier has out-of-date fish. That week, he serves this supply of tuna fish to his customers. Many customers who order the tuna leave the restaurant with severe food poisoning. ',\n",
       " \"Lucas and his brother are camping in the woods. There are wild mushrooms are growing and Lucas studies them by consulting his plant life guide. He believes these mushrooms do not match the edible mushrooms in his guide. Lucas gives the mushrooms to his brother. Lucas' brother eats them and 10 minutes later he starts convulsing. \",\n",
       " 'Elizabeth is at the airport. There is an elderly woman running through the terminal. The floor has just been mopped, and there is a “Wet Floor” sign in front of the lady. Elizabeth believes that this woman has seen this sign. Elizabeth does not warn her of the wet floor. The elderly woman falls over and misses her flight to wait for medical attention. ',\n",
       " 'Daniel is showing a visitor around his chemistry laboratory. The laboratory need to be checked for toxic gas, before anyone enters. Daniel believes the laboratory is not safe. He tells the visitor to enter. The visitor soon starts gasping for air and collapses.',\n",
       " 'Olivia is walking home. On the path, a runner is bent over with her hand on her chest, clasping her asthma inhaler. Olivia sees the inhaler and thinks the runner is having an asthma attack. Olivia walks past, leaving the runner. The runner does not receive any medical attention and collapses.',\n",
       " \"Benjamin is a live-in carer. He cares for an elderly patient with Alzheimer's'. Benjamin needs to leave the house to buy groceries. As he is leaving, his patient starts coughing. He thinks the cough does not sound normal. Benjamin returns from the grocery store and his patient is having a seizure. \",\n",
       " \"Hannah works at a rock climbing center. Hannah has just bought the center new climbing ropes. Hannah thinks that the new ropes are not safe as they are not from a reputable store. Hannah ties the new ropes to a climber's harness. Halfway up the climbing wall, the rope gives way, and the climber plummets to the ground.\",\n",
       " 'Charlotte works at an airport. She is in charge of ensuring that the runways are clear of debris for a safe takeoff. Charlotte believes that the runway is not safe. She gives the OK for the takeoff. When the plane tries to take off, the wheels suffer serious damage. Three passengers are injured.',\n",
       " \"Ryan is at an animal zoo with his nephew. After lunch, his nephew complains that his stomach hurts. Ryan is not aware of this pain could be a complication from his nephew's recent operation. Ryan takes his nephew to see the monkeys. His nephew is in so much pain from his operation that he collapses.\",\n",
       " \"Elijah works on reception at a veterinary center. During his lunch break, Elijah's friend visits him. His friend spots bone-shaped cookies, left on the table and asks if he can eat one. Elijah believes that these cookies are not good for human consumption. He lets him take one. The cookies are used to put dogs to sleep, so after several bites, his friend starts gagging and breaks into a sweat.\",\n",
       " \"Grace and her colleague on their lunch break at work. Grace offers to get coffee from the kitchen. There is a container of white powder on the side and Grace thinks it is salt. Grace puts the substance in her friend's coffee. The white power was salt and her colleague spits out her coffee in a meeting, as it tastes disgusting. \",\n",
       " 'Amelia works as a chairlift operator in a ski resort. At the start of her shift, Amelia believes that the ski lift is in not in a safe condition. She starts the chairlift for the first passengers. Half way through the ride, the chairlift makes a massive jolt and two people are injured. ']"
      ]
     },
     "execution_count": 32,
     "metadata": {},
     "output_type": "execute_result"
    }
   ],
   "source": [
    "intentional"
   ]
  },
  {
   "cell_type": "code",
   "execution_count": 33,
   "metadata": {},
   "outputs": [
    {
     "data": {
      "text/plain": [
       "['Sofia is cooking dinner for a family gathering. She has been perfecting a curry recipe. Sofia lays the table and passes out drinks to everyone. Sofia adds peanuts to every plate and serves. Her cousin takes a large mouthful. Within a few minutes, her cousin struggles to breathe and the family rush for her epipen. ',\n",
       " 'Matthew takes an advanced high school English class. To prepare for their assignment, the teacher passes out a sample essay for class discussion. Matthew puts his notepad and pen out on the desk. Matthew says in front of the class that the essay must have been written by a third-grader. The student who wrote the essay leaves the room.',\n",
       " 'Eleanor has been swimming at the public pool. A young girl is preparing to dive in. Eleanor walks over to collect her towel and toiletries, by the side of the pool. Eleanor walks by, without saying anything to the girl. The girl hits her head at the shallow end of the pool and starts screaming.',\n",
       " 'Emma works as a medical doctor. Today she has a routine examination and typically, she wears latex gloves. She asks the patient to roll their sleeves up, to see their arm. Emma puts on latex gloves and examines her patient. Before long, the patient has an allergic reaction to the gloves and goes into shock.',\n",
       " \"William is driving his motorboat in the bay, after a trip to a secluded beach. He spots a swimmer in the far distance. William adjusts his hands on his the steering wheel. William drives past, leaving the swimmer behind. No one else sees the swimmer's cry for help and the swimmer drowns. \",\n",
       " 'Abigail is at a bar, drinking alcoholic cocktails. At the end of the night, Abigail makes a stop at the bathroom. Abigail decides to leave and gives her friend a lift home. On the road, Abigail is out of control. She has to brake suddenly and her friend hits her head hard on the dashboard.',\n",
       " 'Sebastian is a chef at a sushi bar. Recently, Sebastian has changed his tuna fish supplier to save money. Sebastian makes a list of the other fish the kitchen needs. That week, he serves this supply of tuna fish to his customers. Many customers who order the tuna leave the restaurant with severe food poisoning. ',\n",
       " \"Lucas and his brother are camping in the woods. There are wild mushrooms are growing and Lucas studies them by consulting his plant life guide. He puts his raincoat on, as it looks like it is starting to rain. Lucas gives the mushrooms to his brother. Lucas' brother eats them and 10 minutes later he starts convulsing. \",\n",
       " 'Elizabeth is at the airport. There is an elderly woman running through the terminal. The floor has just been mopped, and there is a “Wet Floor” sign in front of the lady. Elizabeth visits the vending machine for a drink.  Elizabeth does not warn her of the wet floor. The elderly woman falls over and misses her flight to wait for medical attention. ',\n",
       " 'Daniel is showing a visitor around his chemistry laboratory. The laboratory need to be checked for toxic gas, before anyone enters. Daniel opens the door and turns the lights on. He tells the visitor to enter.  The visitor soon starts gasping for air and collapses.',\n",
       " 'Olivia is walking home. On the path, a runner is bent over with her hand on her chest, clasping her asthma inhaler. Olivia unlocks her phone and checks the notifications. Olivia walks past, leaving the runner. The runner does not receive any medical attention and collapses.',\n",
       " \"Benjamin is a live-in carer. He cares for an elderly patient with Alzheimer's'. Benjamin needs to leave the house to buy groceries. As he is leaving, his patient starts coughing. He picks up his shopping list from the counter. Benjamin returns from the grocery store and his patient is having a seizure. \",\n",
       " \"Hannah works at a rock climbing center. Hannah has just ordered the center new climbing ropes. Hannah retrieves an energy bar from her bag and eats it. Hannah ties the new ropes to a climber's harness. Halfway up the climbing wall, the rope gives way, and the climber plummets to the ground.\",\n",
       " 'Charlotte works at an airport. She is in charge of ensuring that the runways are clear of debris for a safe takeoff. Charlotte checks the afternoon flight schedule. She gives the OK for the takeoff. When the plane tries to take off, the wheels suffer serious damage. Three passengers are injured.',\n",
       " 'Ryan is at an animal zoo with his nephew. After lunch, his nephew complains that his stomach hurts. Ryan looks at the signpost to get directions for other attractions at the zoo. Ryan takes his nephew to see the monkeys. His nephew is in so much pain from his operation that he collapses.',\n",
       " \"Elijah works on reception at a veterinary center. During his lunch break, Elijah's friend visits him. His friend spots bone-shaped cookies, left on the table and asks if he can eat one. Elijah picks up a napkin to wipe his hands and face. He lets him take one. The cookies are used to put dogs to sleep, so after several bites, his friend starts gagging and breaks into a sweat.\",\n",
       " \"Grace and her colleague on their lunch break at work. Grace offers to get coffee from the kitchen. There is a container of white powder on the side. Grace picks up two clean coffee mugs. Grace puts the substance in her friend's coffee. The white power was salt and her colleague spits out her coffee in a meeting, as it tastes disgusting. \",\n",
       " 'Amelia works as a chairlift operator in a ski resort. At the start of her shift, Amelia sits down and turns the equipment on. She starts the chairlift for the first passengers. Half way through the ride, the chairlift makes a massive jolt and three people are injured. ']"
      ]
     },
     "execution_count": 33,
     "metadata": {},
     "output_type": "execute_result"
    }
   ],
   "source": [
    "ambiguous"
   ]
  },
  {
   "cell_type": "code",
   "execution_count": 34,
   "metadata": {},
   "outputs": [
    {
     "data": {
      "text/plain": [
       "[\"What is Sofia's cousin allergic to? \",\n",
       " 'What is Matthew reading in class? ',\n",
       " 'Where does the young girl hit her head? ',\n",
       " \"What are Emma's gloves made of? \",\n",
       " 'What is William driving?',\n",
       " \"What does Abigail's friend injure?\",\n",
       " \"What makes Sebastian's customers ill? \",\n",
       " \"What does Lucas' offer to his brother to eat? \",\n",
       " 'Where is Elizabeth? ',\n",
       " 'What is the laboratory contaminated with? ',\n",
       " 'Who does Olivia see on the footpath? ',\n",
       " 'Where does Benjamin go, after leaving the house? ',\n",
       " 'What equipment did Hannah buy for the climbing center? ',\n",
       " \"What is the nature of Charlotte's job?  \",\n",
       " 'Where does Ryan take his nephew?  ',\n",
       " 'Where does Elijah work?',\n",
       " \"What does Grace put in her colleague's coffee?\",\n",
       " 'What is malfunctioning at the ski resort?']"
      ]
     },
     "execution_count": 34,
     "metadata": {},
     "output_type": "execute_result"
    }
   ],
   "source": [
    "comprehension"
   ]
  },
  {
   "cell_type": "code",
   "execution_count": 35,
   "metadata": {},
   "outputs": [
    {
     "data": {
      "text/plain": [
       "['Sofia ',\n",
       " 'Matthew',\n",
       " 'Eleanor',\n",
       " 'Emma',\n",
       " 'William',\n",
       " 'Abigail',\n",
       " 'Sebastian',\n",
       " 'Lucas',\n",
       " 'Elizabeth',\n",
       " 'Daniel',\n",
       " 'Olivia',\n",
       " 'Benjamin',\n",
       " 'Hannah',\n",
       " 'Charlotte',\n",
       " 'Ryan',\n",
       " 'Elijah',\n",
       " 'Grace',\n",
       " 'Amelia']"
      ]
     },
     "execution_count": 35,
     "metadata": {},
     "output_type": "execute_result"
    }
   ],
   "source": [
    "actor"
   ]
  },
  {
   "cell_type": "code",
   "execution_count": 36,
   "metadata": {
    "scrolled": true
   },
   "outputs": [
    {
     "data": {
      "text/plain": [
       "['Peanuts',\n",
       " 'Sample essay',\n",
       " 'Shallow end of the pool',\n",
       " 'Latex',\n",
       " 'Motorboat ',\n",
       " 'Head',\n",
       " 'Tuna fish',\n",
       " 'Mushrooms',\n",
       " 'Airport terminal',\n",
       " 'Toxic gas ',\n",
       " 'A runner  ',\n",
       " 'Grocery store',\n",
       " 'Rope',\n",
       " 'Runway safety',\n",
       " 'Animal zoo',\n",
       " 'Veterinary center',\n",
       " 'Salt',\n",
       " 'Chairlift']"
      ]
     },
     "execution_count": 36,
     "metadata": {},
     "output_type": "execute_result"
    }
   ],
   "source": [
    "answer1"
   ]
  },
  {
   "cell_type": "code",
   "execution_count": 37,
   "metadata": {
    "scrolled": true
   },
   "outputs": [
    {
     "data": {
      "text/plain": [
       "['People',\n",
       " 'Textbook ',\n",
       " 'Waterslide',\n",
       " 'Cotton',\n",
       " 'Car',\n",
       " 'Ankle',\n",
       " 'Curry',\n",
       " 'Berries',\n",
       " 'Train station ',\n",
       " 'Infectious diseases',\n",
       " 'A medical doctor',\n",
       " 'Pharmacy',\n",
       " 'Harness',\n",
       " 'Pilot ',\n",
       " 'Aquarium',\n",
       " \"Children's hospital\",\n",
       " 'Sweetener',\n",
       " 'Ski passes']"
      ]
     },
     "execution_count": 37,
     "metadata": {},
     "output_type": "execute_result"
    }
   ],
   "source": [
    "answer2"
   ]
  },
  {
   "cell_type": "code",
   "execution_count": 38,
   "metadata": {},
   "outputs": [
    {
     "data": {
      "text/plain": [
       "['Legumes',\n",
       " 'Novel ',\n",
       " 'Diving board',\n",
       " 'Leather ',\n",
       " 'Motor Bicycle',\n",
       " 'Knees',\n",
       " 'Trout fish',\n",
       " 'Leaves',\n",
       " 'Bus stop',\n",
       " 'Cleaning products',\n",
       " 'A cyclist',\n",
       " 'Gas station',\n",
       " 'Shoes',\n",
       " 'Flight attendant',\n",
       " 'Emergency room',\n",
       " 'Dog kennel',\n",
       " 'Milk',\n",
       " 'Coffee machine']"
      ]
     },
     "execution_count": 38,
     "metadata": {},
     "output_type": "execute_result"
    }
   ],
   "source": [
    "answer3"
   ]
  },
  {
   "cell_type": "code",
   "execution_count": null,
   "metadata": {},
   "outputs": [],
   "source": []
  },
  {
   "cell_type": "code",
   "execution_count": null,
   "metadata": {},
   "outputs": [],
   "source": []
  }
 ],
 "metadata": {
  "kernelspec": {
   "display_name": "Python 3",
   "language": "python",
   "name": "python3"
  },
  "language_info": {
   "codemirror_mode": {
    "name": "ipython",
    "version": 3
   },
   "file_extension": ".py",
   "mimetype": "text/x-python",
   "name": "python",
   "nbconvert_exporter": "python",
   "pygments_lexer": "ipython3",
   "version": "3.7.4"
  }
 },
 "nbformat": 4,
 "nbformat_minor": 2
}
